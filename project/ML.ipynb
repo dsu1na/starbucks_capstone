{
 "cells": [
  {
   "cell_type": "markdown",
   "metadata": {},
   "source": [
    "# Starbucks Capstone Project"
   ]
  },
  {
   "cell_type": "markdown",
   "metadata": {},
   "source": [
    "### Introduction\n",
    "\n",
    "This data set contains simulated data that mimics customer behavior on the Starbucks rewards mobile app. Once every few days, Starbucks sends out an offer to users of the mobile app. An offer can be merely an advertisement for a drink or an actual offer such as a discount or BOGO (buy one get one free). Some users might not receive any offer during certain weeks. \n",
    "\n",
    "Not all users receive the same offer, and that is the challenge to solve with this data set.\n",
    "\n",
    "Your task is to combine transaction, demographic and offer data to determine which demographic groups respond best to which offer type. This data set is a simplified version of the real Starbucks app because the underlying simulator only has one product whereas Starbucks actually sells dozens of products.\n",
    "\n",
    "Every offer has a validity period before the offer expires. As an example, a BOGO offer might be valid for only 5 days. You'll see in the data set that informational offers have a validity period even though these ads are merely providing information about a product; for example, if an informational offer has 7 days of validity, you can assume the customer is feeling the influence of the offer for 7 days after receiving the advertisement.\n",
    "\n",
    "You'll be given transactional data showing user purchases made on the app including the timestamp of purchase and the amount of money spent on a purchase. This transactional data also has a record for each offer that a user receives as well as a record for when a user actually views the offer. There are also records for when a user completes an offer. \n",
    "\n",
    "Keep in mind as well that someone using the app might make a purchase through the app without having received an offer or seen an offer.\n",
    "\n",
    "### Example\n",
    "\n",
    "To give an example, a user could receive a discount offer buy 10 dollars get 2 off on Monday. The offer is valid for 10 days from receipt. If the customer accumulates at least 10 dollars in purchases during the validity period, the customer completes the offer.\n",
    "\n",
    "However, there are a few things to watch out for in this data set. Customers do not opt into the offers that they receive; in other words, a user can receive an offer, never actually view the offer, and still complete the offer. For example, a user might receive the \"buy 10 dollars get 2 dollars off offer\", but the user never opens the offer during the 10 day validity period. The customer spends 15 dollars during those ten days. There will be an offer completion record in the data set; however, the customer was not influenced by the offer because the customer never viewed the offer.\n",
    "\n",
    "### Cleaning\n",
    "\n",
    "This makes data cleaning especially important and tricky.\n",
    "\n",
    "You'll also want to take into account that some demographic groups will make purchases even if they don't receive an offer. From a business perspective, if a customer is going to make a 10 dollar purchase without an offer anyway, you wouldn't want to send a buy 10 dollars get 2 dollars off offer. You'll want to try to assess what a certain demographic group will buy when not receiving any offers.\n",
    "\n",
    "### Final Advice\n",
    "\n",
    "Because this is a capstone project, you are free to analyze the data any way you see fit. For example, you could build a machine learning model that predicts how much someone will spend based on demographics and offer type. Or you could build a model that predicts whether or not someone will respond to an offer. Or, you don't need to build a machine learning model at all. You could develop a set of heuristics that determine what offer you should send to each customer (i.e., 75 percent of women customers who were 35 years old responded to offer A vs 40 percent from the same demographic to offer B, so send offer A).\n",
    "\n",
    "\n",
    "## Objective of the project\n",
    "\n",
    "- Using the user's demographics, offer data and the customer's transaction data to build a model that predicts if an user is going to complete the offer or not.\n",
    "\n",
    "## Approach\n",
    "\n",
    "- In this project we will use the user demographics data, the offer data and transaction data if they have viewed and completed an offer. Only the BOGO and DISCOUNT offer will be considered in this analysis. Then necessary data cleaning and transformation needs to be done to make the data ready for fitting into a supervised binary classification ML model. For evaluating the model performance ACCURACY will be used as a metric."
   ]
  },
  {
   "cell_type": "markdown",
   "metadata": {},
   "source": [
    "## 1. Import Required Libraries"
   ]
  },
  {
   "cell_type": "code",
   "execution_count": 1,
   "metadata": {},
   "outputs": [],
   "source": [
    "import pandas as pd\n",
    "import numpy as np\n",
    "import json\n",
    "from datetime import datetime\n",
    "\n",
    "# for model building\n",
    "from sklearn.preprocessing import MinMaxScaler\n",
    "from sklearn.pipeline import Pipeline\n",
    "from sklearn.model_selection import train_test_split, GridSearchCV\n",
    "from sklearn.linear_model import LogisticRegression\n",
    "from sklearn.ensemble import GradientBoostingClassifier\n",
    "from sklearn.ensemble import RandomForestClassifier\n",
    "\n",
    "# for model evaluation\n",
    "from sklearn.metrics import classification_report\n",
    "from sklearn.metrics import confusion_matrix, ConfusionMatrixDisplay\n",
    "\n",
    "import seaborn as sns\n",
    "\n",
    "import matplotlib.pyplot as plt\n",
    "%matplotlib inline\n",
    "\n",
    "pd.set_option('max_colwidth', None)"
   ]
  },
  {
   "cell_type": "markdown",
   "metadata": {},
   "source": [
    "## 2. Read the necessary data & Explore the tables"
   ]
  },
  {
   "cell_type": "markdown",
   "metadata": {},
   "source": [
    "The data is contained in three files:\n",
    "\n",
    "* portfolio.json - containing offer ids and meta data about each offer (duration, type, etc.)\n",
    "* profile.json - demographic data for each customer\n",
    "* transcript.json - records for transactions, offers received, offers viewed, and offers completed"
   ]
  },
  {
   "cell_type": "code",
   "execution_count": 2,
   "metadata": {},
   "outputs": [],
   "source": [
    "portfolio = pd.read_json('../data/portfolio.json', orient='records', lines=True)\n",
    "profile = pd.read_json('../data/profile.json', orient='records', lines=True)\n",
    "transcript = pd.read_json('../data/transcript.json', orient='records', lines=True)"
   ]
  },
  {
   "cell_type": "markdown",
   "metadata": {},
   "source": [
    "#### Portfolio"
   ]
  },
  {
   "cell_type": "markdown",
   "metadata": {},
   "source": [
    "**portfolio.json**\n",
    "* id (string) - offer id\n",
    "* offer_type (string) - type of offer ie BOGO, discount, informational\n",
    "* difficulty (int) - minimum required spend to complete an offer\n",
    "* reward (int) - reward given for completing an offer\n",
    "* duration (int) - time for offer to be open, in days\n",
    "* channels (list of strings)"
   ]
  },
  {
   "cell_type": "code",
   "execution_count": 3,
   "metadata": {},
   "outputs": [
    {
     "data": {
      "text/html": [
       "<div>\n",
       "<style scoped>\n",
       "    .dataframe tbody tr th:only-of-type {\n",
       "        vertical-align: middle;\n",
       "    }\n",
       "\n",
       "    .dataframe tbody tr th {\n",
       "        vertical-align: top;\n",
       "    }\n",
       "\n",
       "    .dataframe thead th {\n",
       "        text-align: right;\n",
       "    }\n",
       "</style>\n",
       "<table border=\"1\" class=\"dataframe\">\n",
       "  <thead>\n",
       "    <tr style=\"text-align: right;\">\n",
       "      <th></th>\n",
       "      <th>reward</th>\n",
       "      <th>channels</th>\n",
       "      <th>difficulty</th>\n",
       "      <th>duration</th>\n",
       "      <th>offer_type</th>\n",
       "      <th>id</th>\n",
       "    </tr>\n",
       "  </thead>\n",
       "  <tbody>\n",
       "    <tr>\n",
       "      <th>0</th>\n",
       "      <td>10</td>\n",
       "      <td>[email, mobile, social]</td>\n",
       "      <td>10</td>\n",
       "      <td>7</td>\n",
       "      <td>bogo</td>\n",
       "      <td>ae264e3637204a6fb9bb56bc8210ddfd</td>\n",
       "    </tr>\n",
       "    <tr>\n",
       "      <th>1</th>\n",
       "      <td>10</td>\n",
       "      <td>[web, email, mobile, social]</td>\n",
       "      <td>10</td>\n",
       "      <td>5</td>\n",
       "      <td>bogo</td>\n",
       "      <td>4d5c57ea9a6940dd891ad53e9dbe8da0</td>\n",
       "    </tr>\n",
       "    <tr>\n",
       "      <th>2</th>\n",
       "      <td>0</td>\n",
       "      <td>[web, email, mobile]</td>\n",
       "      <td>0</td>\n",
       "      <td>4</td>\n",
       "      <td>informational</td>\n",
       "      <td>3f207df678b143eea3cee63160fa8bed</td>\n",
       "    </tr>\n",
       "    <tr>\n",
       "      <th>3</th>\n",
       "      <td>5</td>\n",
       "      <td>[web, email, mobile]</td>\n",
       "      <td>5</td>\n",
       "      <td>7</td>\n",
       "      <td>bogo</td>\n",
       "      <td>9b98b8c7a33c4b65b9aebfe6a799e6d9</td>\n",
       "    </tr>\n",
       "    <tr>\n",
       "      <th>4</th>\n",
       "      <td>5</td>\n",
       "      <td>[web, email]</td>\n",
       "      <td>20</td>\n",
       "      <td>10</td>\n",
       "      <td>discount</td>\n",
       "      <td>0b1e1539f2cc45b7b9fa7c272da2e1d7</td>\n",
       "    </tr>\n",
       "    <tr>\n",
       "      <th>5</th>\n",
       "      <td>3</td>\n",
       "      <td>[web, email, mobile, social]</td>\n",
       "      <td>7</td>\n",
       "      <td>7</td>\n",
       "      <td>discount</td>\n",
       "      <td>2298d6c36e964ae4a3e7e9706d1fb8c2</td>\n",
       "    </tr>\n",
       "    <tr>\n",
       "      <th>6</th>\n",
       "      <td>2</td>\n",
       "      <td>[web, email, mobile, social]</td>\n",
       "      <td>10</td>\n",
       "      <td>10</td>\n",
       "      <td>discount</td>\n",
       "      <td>fafdcd668e3743c1bb461111dcafc2a4</td>\n",
       "    </tr>\n",
       "    <tr>\n",
       "      <th>7</th>\n",
       "      <td>0</td>\n",
       "      <td>[email, mobile, social]</td>\n",
       "      <td>0</td>\n",
       "      <td>3</td>\n",
       "      <td>informational</td>\n",
       "      <td>5a8bc65990b245e5a138643cd4eb9837</td>\n",
       "    </tr>\n",
       "    <tr>\n",
       "      <th>8</th>\n",
       "      <td>5</td>\n",
       "      <td>[web, email, mobile, social]</td>\n",
       "      <td>5</td>\n",
       "      <td>5</td>\n",
       "      <td>bogo</td>\n",
       "      <td>f19421c1d4aa40978ebb69ca19b0e20d</td>\n",
       "    </tr>\n",
       "    <tr>\n",
       "      <th>9</th>\n",
       "      <td>2</td>\n",
       "      <td>[web, email, mobile]</td>\n",
       "      <td>10</td>\n",
       "      <td>7</td>\n",
       "      <td>discount</td>\n",
       "      <td>2906b810c7d4411798c6938adc9daaa5</td>\n",
       "    </tr>\n",
       "  </tbody>\n",
       "</table>\n",
       "</div>"
      ],
      "text/plain": [
       "   reward                      channels  difficulty  duration     offer_type  \\\n",
       "0      10       [email, mobile, social]          10         7           bogo   \n",
       "1      10  [web, email, mobile, social]          10         5           bogo   \n",
       "2       0          [web, email, mobile]           0         4  informational   \n",
       "3       5          [web, email, mobile]           5         7           bogo   \n",
       "4       5                  [web, email]          20        10       discount   \n",
       "5       3  [web, email, mobile, social]           7         7       discount   \n",
       "6       2  [web, email, mobile, social]          10        10       discount   \n",
       "7       0       [email, mobile, social]           0         3  informational   \n",
       "8       5  [web, email, mobile, social]           5         5           bogo   \n",
       "9       2          [web, email, mobile]          10         7       discount   \n",
       "\n",
       "                                 id  \n",
       "0  ae264e3637204a6fb9bb56bc8210ddfd  \n",
       "1  4d5c57ea9a6940dd891ad53e9dbe8da0  \n",
       "2  3f207df678b143eea3cee63160fa8bed  \n",
       "3  9b98b8c7a33c4b65b9aebfe6a799e6d9  \n",
       "4  0b1e1539f2cc45b7b9fa7c272da2e1d7  \n",
       "5  2298d6c36e964ae4a3e7e9706d1fb8c2  \n",
       "6  fafdcd668e3743c1bb461111dcafc2a4  \n",
       "7  5a8bc65990b245e5a138643cd4eb9837  \n",
       "8  f19421c1d4aa40978ebb69ca19b0e20d  \n",
       "9  2906b810c7d4411798c6938adc9daaa5  "
      ]
     },
     "execution_count": 3,
     "metadata": {},
     "output_type": "execute_result"
    }
   ],
   "source": [
    "portfolio"
   ]
  },
  {
   "cell_type": "markdown",
   "metadata": {},
   "source": [
    "#### Profile"
   ]
  },
  {
   "cell_type": "markdown",
   "metadata": {},
   "source": [
    "**profile.json**\n",
    "* age (int) - age of the customer \n",
    "* became_member_on (int) - date when customer created an app account\n",
    "* gender (str) - gender of the customer (note some entries contain 'O' for other rather than M or F)\n",
    "* id (str) - customer id\n",
    "* income (float) - customer's income"
   ]
  },
  {
   "cell_type": "code",
   "execution_count": 4,
   "metadata": {},
   "outputs": [
    {
     "data": {
      "text/html": [
       "<div>\n",
       "<style scoped>\n",
       "    .dataframe tbody tr th:only-of-type {\n",
       "        vertical-align: middle;\n",
       "    }\n",
       "\n",
       "    .dataframe tbody tr th {\n",
       "        vertical-align: top;\n",
       "    }\n",
       "\n",
       "    .dataframe thead th {\n",
       "        text-align: right;\n",
       "    }\n",
       "</style>\n",
       "<table border=\"1\" class=\"dataframe\">\n",
       "  <thead>\n",
       "    <tr style=\"text-align: right;\">\n",
       "      <th></th>\n",
       "      <th>gender</th>\n",
       "      <th>age</th>\n",
       "      <th>id</th>\n",
       "      <th>became_member_on</th>\n",
       "      <th>income</th>\n",
       "    </tr>\n",
       "  </thead>\n",
       "  <tbody>\n",
       "    <tr>\n",
       "      <th>0</th>\n",
       "      <td>None</td>\n",
       "      <td>118</td>\n",
       "      <td>68be06ca386d4c31939f3a4f0e3dd783</td>\n",
       "      <td>20170212</td>\n",
       "      <td>NaN</td>\n",
       "    </tr>\n",
       "    <tr>\n",
       "      <th>1</th>\n",
       "      <td>F</td>\n",
       "      <td>55</td>\n",
       "      <td>0610b486422d4921ae7d2bf64640c50b</td>\n",
       "      <td>20170715</td>\n",
       "      <td>112000.0</td>\n",
       "    </tr>\n",
       "    <tr>\n",
       "      <th>2</th>\n",
       "      <td>None</td>\n",
       "      <td>118</td>\n",
       "      <td>38fe809add3b4fcf9315a9694bb96ff5</td>\n",
       "      <td>20180712</td>\n",
       "      <td>NaN</td>\n",
       "    </tr>\n",
       "    <tr>\n",
       "      <th>3</th>\n",
       "      <td>F</td>\n",
       "      <td>75</td>\n",
       "      <td>78afa995795e4d85b5d9ceeca43f5fef</td>\n",
       "      <td>20170509</td>\n",
       "      <td>100000.0</td>\n",
       "    </tr>\n",
       "    <tr>\n",
       "      <th>4</th>\n",
       "      <td>None</td>\n",
       "      <td>118</td>\n",
       "      <td>a03223e636434f42ac4c3df47e8bac43</td>\n",
       "      <td>20170804</td>\n",
       "      <td>NaN</td>\n",
       "    </tr>\n",
       "  </tbody>\n",
       "</table>\n",
       "</div>"
      ],
      "text/plain": [
       "  gender  age                                id  became_member_on    income\n",
       "0   None  118  68be06ca386d4c31939f3a4f0e3dd783          20170212       NaN\n",
       "1      F   55  0610b486422d4921ae7d2bf64640c50b          20170715  112000.0\n",
       "2   None  118  38fe809add3b4fcf9315a9694bb96ff5          20180712       NaN\n",
       "3      F   75  78afa995795e4d85b5d9ceeca43f5fef          20170509  100000.0\n",
       "4   None  118  a03223e636434f42ac4c3df47e8bac43          20170804       NaN"
      ]
     },
     "execution_count": 4,
     "metadata": {},
     "output_type": "execute_result"
    }
   ],
   "source": [
    "profile.head()"
   ]
  },
  {
   "cell_type": "markdown",
   "metadata": {},
   "source": [
    "#### Transcript"
   ]
  },
  {
   "cell_type": "markdown",
   "metadata": {},
   "source": [
    "**transcript.json**\n",
    "* event (str) - record description (ie transaction, offer received, offer viewed, etc.)\n",
    "* person (str) - customer id\n",
    "* time (int) - time in hours since start of test. The data begins at time t=0\n",
    "* value - (dict of strings) - either an offer id or transaction amount depending on the record"
   ]
  },
  {
   "cell_type": "code",
   "execution_count": 5,
   "metadata": {},
   "outputs": [
    {
     "data": {
      "text/html": [
       "<div>\n",
       "<style scoped>\n",
       "    .dataframe tbody tr th:only-of-type {\n",
       "        vertical-align: middle;\n",
       "    }\n",
       "\n",
       "    .dataframe tbody tr th {\n",
       "        vertical-align: top;\n",
       "    }\n",
       "\n",
       "    .dataframe thead th {\n",
       "        text-align: right;\n",
       "    }\n",
       "</style>\n",
       "<table border=\"1\" class=\"dataframe\">\n",
       "  <thead>\n",
       "    <tr style=\"text-align: right;\">\n",
       "      <th></th>\n",
       "      <th>person</th>\n",
       "      <th>event</th>\n",
       "      <th>value</th>\n",
       "      <th>time</th>\n",
       "    </tr>\n",
       "  </thead>\n",
       "  <tbody>\n",
       "    <tr>\n",
       "      <th>0</th>\n",
       "      <td>78afa995795e4d85b5d9ceeca43f5fef</td>\n",
       "      <td>offer received</td>\n",
       "      <td>{'offer id': '9b98b8c7a33c4b65b9aebfe6a799e6d9'}</td>\n",
       "      <td>0</td>\n",
       "    </tr>\n",
       "    <tr>\n",
       "      <th>1</th>\n",
       "      <td>a03223e636434f42ac4c3df47e8bac43</td>\n",
       "      <td>offer received</td>\n",
       "      <td>{'offer id': '0b1e1539f2cc45b7b9fa7c272da2e1d7'}</td>\n",
       "      <td>0</td>\n",
       "    </tr>\n",
       "    <tr>\n",
       "      <th>2</th>\n",
       "      <td>e2127556f4f64592b11af22de27a7932</td>\n",
       "      <td>offer received</td>\n",
       "      <td>{'offer id': '2906b810c7d4411798c6938adc9daaa5'}</td>\n",
       "      <td>0</td>\n",
       "    </tr>\n",
       "    <tr>\n",
       "      <th>3</th>\n",
       "      <td>8ec6ce2a7e7949b1bf142def7d0e0586</td>\n",
       "      <td>offer received</td>\n",
       "      <td>{'offer id': 'fafdcd668e3743c1bb461111dcafc2a4'}</td>\n",
       "      <td>0</td>\n",
       "    </tr>\n",
       "    <tr>\n",
       "      <th>4</th>\n",
       "      <td>68617ca6246f4fbc85e91a2a49552598</td>\n",
       "      <td>offer received</td>\n",
       "      <td>{'offer id': '4d5c57ea9a6940dd891ad53e9dbe8da0'}</td>\n",
       "      <td>0</td>\n",
       "    </tr>\n",
       "  </tbody>\n",
       "</table>\n",
       "</div>"
      ],
      "text/plain": [
       "                             person           event  \\\n",
       "0  78afa995795e4d85b5d9ceeca43f5fef  offer received   \n",
       "1  a03223e636434f42ac4c3df47e8bac43  offer received   \n",
       "2  e2127556f4f64592b11af22de27a7932  offer received   \n",
       "3  8ec6ce2a7e7949b1bf142def7d0e0586  offer received   \n",
       "4  68617ca6246f4fbc85e91a2a49552598  offer received   \n",
       "\n",
       "                                              value  time  \n",
       "0  {'offer id': '9b98b8c7a33c4b65b9aebfe6a799e6d9'}     0  \n",
       "1  {'offer id': '0b1e1539f2cc45b7b9fa7c272da2e1d7'}     0  \n",
       "2  {'offer id': '2906b810c7d4411798c6938adc9daaa5'}     0  \n",
       "3  {'offer id': 'fafdcd668e3743c1bb461111dcafc2a4'}     0  \n",
       "4  {'offer id': '4d5c57ea9a6940dd891ad53e9dbe8da0'}     0  "
      ]
     },
     "execution_count": 5,
     "metadata": {},
     "output_type": "execute_result"
    }
   ],
   "source": [
    "transcript.head()"
   ]
  },
  {
   "cell_type": "markdown",
   "metadata": {},
   "source": [
    "### Observations of tables\n",
    "\n",
    "**Portfolio**\n",
    "- The channels column can be split into different channels columns\n",
    "- id column can be renamed to offer id\n",
    "\n",
    "**Profile**\n",
    "- id column can be renamed into person\n",
    "- There are certain persons that didn't reveal their age, gender and income\n",
    "- New features can be made from became_member_on column by calculating the membership duration.\n",
    "\n",
    "**Transcript**\n",
    "- This dataframe can be broken down into 4 different dataframes : transactions, offer received, offer viewed, offer completed\n",
    "- The value column needs to expanded for different scenarios\n"
   ]
  },
  {
   "cell_type": "markdown",
   "metadata": {},
   "source": [
    "## 3. Data Cleaning & Transformation"
   ]
  },
  {
   "cell_type": "markdown",
   "metadata": {},
   "source": [
    "#### Portfolio"
   ]
  },
  {
   "cell_type": "code",
   "execution_count": 6,
   "metadata": {},
   "outputs": [],
   "source": [
    "# in this project we are considering on BOGO and DISCOUNT offer types\n",
    "portfolio = portfolio.query(\"offer_type == 'bogo' | offer_type == 'discount'\")\n",
    "\n",
    "# create dummies for channels column\n",
    "portfolio = portfolio.join(portfolio[\"channels\"].str.join(sep=\";\").str.get_dummies(sep=\";\"))\n",
    "\n",
    "# rename id column\n",
    "portfolio.rename(columns = {\"id\": \"offer id\"}, inplace=True)\n",
    "\n",
    "# drop channels column\n",
    "portfolio.drop(columns = \"channels\", inplace=True)"
   ]
  },
  {
   "cell_type": "code",
   "execution_count": 7,
   "metadata": {},
   "outputs": [
    {
     "data": {
      "text/html": [
       "<div>\n",
       "<style scoped>\n",
       "    .dataframe tbody tr th:only-of-type {\n",
       "        vertical-align: middle;\n",
       "    }\n",
       "\n",
       "    .dataframe tbody tr th {\n",
       "        vertical-align: top;\n",
       "    }\n",
       "\n",
       "    .dataframe thead th {\n",
       "        text-align: right;\n",
       "    }\n",
       "</style>\n",
       "<table border=\"1\" class=\"dataframe\">\n",
       "  <thead>\n",
       "    <tr style=\"text-align: right;\">\n",
       "      <th></th>\n",
       "      <th>reward</th>\n",
       "      <th>difficulty</th>\n",
       "      <th>duration</th>\n",
       "      <th>offer_type</th>\n",
       "      <th>offer id</th>\n",
       "      <th>email</th>\n",
       "      <th>mobile</th>\n",
       "      <th>social</th>\n",
       "      <th>web</th>\n",
       "    </tr>\n",
       "  </thead>\n",
       "  <tbody>\n",
       "    <tr>\n",
       "      <th>0</th>\n",
       "      <td>10</td>\n",
       "      <td>10</td>\n",
       "      <td>7</td>\n",
       "      <td>bogo</td>\n",
       "      <td>ae264e3637204a6fb9bb56bc8210ddfd</td>\n",
       "      <td>1</td>\n",
       "      <td>1</td>\n",
       "      <td>1</td>\n",
       "      <td>0</td>\n",
       "    </tr>\n",
       "    <tr>\n",
       "      <th>1</th>\n",
       "      <td>10</td>\n",
       "      <td>10</td>\n",
       "      <td>5</td>\n",
       "      <td>bogo</td>\n",
       "      <td>4d5c57ea9a6940dd891ad53e9dbe8da0</td>\n",
       "      <td>1</td>\n",
       "      <td>1</td>\n",
       "      <td>1</td>\n",
       "      <td>1</td>\n",
       "    </tr>\n",
       "    <tr>\n",
       "      <th>3</th>\n",
       "      <td>5</td>\n",
       "      <td>5</td>\n",
       "      <td>7</td>\n",
       "      <td>bogo</td>\n",
       "      <td>9b98b8c7a33c4b65b9aebfe6a799e6d9</td>\n",
       "      <td>1</td>\n",
       "      <td>1</td>\n",
       "      <td>0</td>\n",
       "      <td>1</td>\n",
       "    </tr>\n",
       "    <tr>\n",
       "      <th>4</th>\n",
       "      <td>5</td>\n",
       "      <td>20</td>\n",
       "      <td>10</td>\n",
       "      <td>discount</td>\n",
       "      <td>0b1e1539f2cc45b7b9fa7c272da2e1d7</td>\n",
       "      <td>1</td>\n",
       "      <td>0</td>\n",
       "      <td>0</td>\n",
       "      <td>1</td>\n",
       "    </tr>\n",
       "    <tr>\n",
       "      <th>5</th>\n",
       "      <td>3</td>\n",
       "      <td>7</td>\n",
       "      <td>7</td>\n",
       "      <td>discount</td>\n",
       "      <td>2298d6c36e964ae4a3e7e9706d1fb8c2</td>\n",
       "      <td>1</td>\n",
       "      <td>1</td>\n",
       "      <td>1</td>\n",
       "      <td>1</td>\n",
       "    </tr>\n",
       "  </tbody>\n",
       "</table>\n",
       "</div>"
      ],
      "text/plain": [
       "   reward  difficulty  duration offer_type                          offer id  \\\n",
       "0      10          10         7       bogo  ae264e3637204a6fb9bb56bc8210ddfd   \n",
       "1      10          10         5       bogo  4d5c57ea9a6940dd891ad53e9dbe8da0   \n",
       "3       5           5         7       bogo  9b98b8c7a33c4b65b9aebfe6a799e6d9   \n",
       "4       5          20        10   discount  0b1e1539f2cc45b7b9fa7c272da2e1d7   \n",
       "5       3           7         7   discount  2298d6c36e964ae4a3e7e9706d1fb8c2   \n",
       "\n",
       "   email  mobile  social  web  \n",
       "0      1       1       1    0  \n",
       "1      1       1       1    1  \n",
       "3      1       1       0    1  \n",
       "4      1       0       0    1  \n",
       "5      1       1       1    1  "
      ]
     },
     "execution_count": 7,
     "metadata": {},
     "output_type": "execute_result"
    }
   ],
   "source": [
    "portfolio.head()"
   ]
  },
  {
   "cell_type": "markdown",
   "metadata": {},
   "source": [
    "#### Profile"
   ]
  },
  {
   "cell_type": "code",
   "execution_count": 8,
   "metadata": {},
   "outputs": [
    {
     "data": {
      "text/plain": [
       "0.12794117647058822"
      ]
     },
     "execution_count": 8,
     "metadata": {},
     "output_type": "execute_result"
    }
   ],
   "source": [
    "# check the number of user that didn't wish to reveal their demographic information\n",
    "\n",
    "profile.gender.isnull().mean()"
   ]
  },
  {
   "cell_type": "markdown",
   "metadata": {},
   "source": [
    "- As the missing values cannot be replaced with imputation because it will lead to including wrong information in the dataset and the number of null values are lesser (12 % of total population) we can drop the users with null values."
   ]
  },
  {
   "cell_type": "code",
   "execution_count": 9,
   "metadata": {},
   "outputs": [],
   "source": [
    "# drop the nulls\n",
    "profile.dropna(subset=\"gender\", inplace=True)\n",
    "\n",
    "# rename the id column\n",
    "profile.rename(columns = {\"id\": \"person\"}, inplace=True)\n",
    "\n",
    "# create a new column called membership duration. It is the difference between 2019-01-01 and the \n",
    "# date of became member on \n",
    "profile[\"became_member_on\"] = pd.to_datetime(profile.became_member_on, format='%Y%m%d')\n",
    "profile[\"membership_period\"] = (datetime.strptime('2019-01-01', '%Y-%m-%d') - profile[\"became_member_on\"]).dt.days\n",
    "\n",
    "# drop became_member_on column\n",
    "profile.drop(columns = 'became_member_on', inplace = True)"
   ]
  },
  {
   "cell_type": "code",
   "execution_count": 10,
   "metadata": {},
   "outputs": [
    {
     "data": {
      "text/html": [
       "<div>\n",
       "<style scoped>\n",
       "    .dataframe tbody tr th:only-of-type {\n",
       "        vertical-align: middle;\n",
       "    }\n",
       "\n",
       "    .dataframe tbody tr th {\n",
       "        vertical-align: top;\n",
       "    }\n",
       "\n",
       "    .dataframe thead th {\n",
       "        text-align: right;\n",
       "    }\n",
       "</style>\n",
       "<table border=\"1\" class=\"dataframe\">\n",
       "  <thead>\n",
       "    <tr style=\"text-align: right;\">\n",
       "      <th></th>\n",
       "      <th>gender</th>\n",
       "      <th>age</th>\n",
       "      <th>person</th>\n",
       "      <th>income</th>\n",
       "      <th>membership_period</th>\n",
       "    </tr>\n",
       "  </thead>\n",
       "  <tbody>\n",
       "    <tr>\n",
       "      <th>1</th>\n",
       "      <td>F</td>\n",
       "      <td>55</td>\n",
       "      <td>0610b486422d4921ae7d2bf64640c50b</td>\n",
       "      <td>112000.0</td>\n",
       "      <td>535</td>\n",
       "    </tr>\n",
       "    <tr>\n",
       "      <th>3</th>\n",
       "      <td>F</td>\n",
       "      <td>75</td>\n",
       "      <td>78afa995795e4d85b5d9ceeca43f5fef</td>\n",
       "      <td>100000.0</td>\n",
       "      <td>602</td>\n",
       "    </tr>\n",
       "    <tr>\n",
       "      <th>5</th>\n",
       "      <td>M</td>\n",
       "      <td>68</td>\n",
       "      <td>e2127556f4f64592b11af22de27a7932</td>\n",
       "      <td>70000.0</td>\n",
       "      <td>250</td>\n",
       "    </tr>\n",
       "    <tr>\n",
       "      <th>8</th>\n",
       "      <td>M</td>\n",
       "      <td>65</td>\n",
       "      <td>389bc3fa690240e798340f5a15918d5c</td>\n",
       "      <td>53000.0</td>\n",
       "      <td>326</td>\n",
       "    </tr>\n",
       "    <tr>\n",
       "      <th>12</th>\n",
       "      <td>M</td>\n",
       "      <td>58</td>\n",
       "      <td>2eeac8d8feae4a8cad5a6af0499a211d</td>\n",
       "      <td>51000.0</td>\n",
       "      <td>416</td>\n",
       "    </tr>\n",
       "  </tbody>\n",
       "</table>\n",
       "</div>"
      ],
      "text/plain": [
       "   gender  age                            person    income  membership_period\n",
       "1       F   55  0610b486422d4921ae7d2bf64640c50b  112000.0                535\n",
       "3       F   75  78afa995795e4d85b5d9ceeca43f5fef  100000.0                602\n",
       "5       M   68  e2127556f4f64592b11af22de27a7932   70000.0                250\n",
       "8       M   65  389bc3fa690240e798340f5a15918d5c   53000.0                326\n",
       "12      M   58  2eeac8d8feae4a8cad5a6af0499a211d   51000.0                416"
      ]
     },
     "execution_count": 10,
     "metadata": {},
     "output_type": "execute_result"
    }
   ],
   "source": [
    "profile.head()"
   ]
  },
  {
   "cell_type": "markdown",
   "metadata": {},
   "source": [
    "#### Transcript"
   ]
  },
  {
   "cell_type": "code",
   "execution_count": 11,
   "metadata": {},
   "outputs": [],
   "source": [
    "# create 4 different datasets from transcript dataset\n",
    "transaction_df = transcript.query(f\"event == 'transaction'\")\n",
    "offer_received_df = transcript.query(f\"event == 'offer received'\")\n",
    "offer_viewed_df = transcript.query(f\"event == 'offer viewed'\")\n",
    "offer_completed_df = transcript.query(f\"event == 'offer completed'\")\n",
    "\n",
    "transcript_df_list = [transaction_df, offer_received_df, offer_viewed_df, offer_completed_df]\n",
    "\n",
    "# reset index\n",
    "for item in transcript_df_list:\n",
    "    item.reset_index(drop=True, inplace=True)\n",
    "    \n",
    "# expand the value column\n",
    "transaction_df = transaction_df.join(pd.json_normalize(transaction_df.value))\n",
    "offer_received_df = offer_received_df.join(pd.json_normalize(offer_received_df.value))\n",
    "offer_viewed_df = offer_viewed_df.join(pd.json_normalize(offer_viewed_df.value))\n",
    "offer_completed_df = offer_completed_df.join(pd.json_normalize(offer_completed_df.value))\n",
    "\n",
    "\n",
    "# drop the value column for the 4 dataframes\n",
    "transaction_df.drop(columns = [\"value\", \"event\"], inplace=True)\n",
    "offer_received_df.drop(columns = [\"value\", \"event\"], inplace=True)\n",
    "offer_viewed_df.drop(columns = [\"value\", \"event\"], inplace=True)\n",
    "offer_completed_df.drop(columns = [\"value\", \"event\", \"reward\"], inplace=True)\n",
    "\n",
    "# rename the offer_id column of offer_completed_df to offer id \n",
    "offer_completed_df.rename(columns={\"offer_id\": \"offer id\"}, inplace=True)\n",
    "\n",
    "# join the protfolio details to the 4 dataframes\n",
    "offer_received_df = pd.merge(offer_received_df, portfolio, how='inner',\n",
    "                            on='offer id')\n",
    "\n",
    "offer_viewed_df = pd.merge(offer_viewed_df, portfolio, how='inner',\n",
    "                          on='offer id')\n",
    "\n",
    "offer_completed_df = pd.merge(offer_completed_df, portfolio, how='inner',\n",
    "                             on='offer id')\n",
    "\n",
    "# create a new feature called time_end that describes till when the offer is available\n",
    "offer_received_df[\"time_offer_end\"] = offer_received_df[\"time\"] + offer_received_df[\"duration\"]*24\n",
    "\n",
    "# make offer recieved index as unique ids for offer received\n",
    "offer_received_df.reset_index(inplace=True)\n",
    "\n",
    "# rename time related columns\n",
    "transaction_df.rename(columns={\"time\": \"time_txn\"}, inplace=True)\n",
    "offer_received_df.rename(columns={\"time\": \"time_offer_start\",\n",
    "                                  \"index\": \"offer_rec_id\"}, inplace=True)\n",
    "offer_viewed_df.rename(columns={\"time\": \"time_viewed\"}, inplace=True)\n",
    "offer_completed_df.rename(columns={\"time\": \"time_completed\"}, inplace=True)"
   ]
  },
  {
   "cell_type": "code",
   "execution_count": 12,
   "metadata": {},
   "outputs": [
    {
     "data": {
      "text/html": [
       "<div>\n",
       "<style scoped>\n",
       "    .dataframe tbody tr th:only-of-type {\n",
       "        vertical-align: middle;\n",
       "    }\n",
       "\n",
       "    .dataframe tbody tr th {\n",
       "        vertical-align: top;\n",
       "    }\n",
       "\n",
       "    .dataframe thead th {\n",
       "        text-align: right;\n",
       "    }\n",
       "</style>\n",
       "<table border=\"1\" class=\"dataframe\">\n",
       "  <thead>\n",
       "    <tr style=\"text-align: right;\">\n",
       "      <th></th>\n",
       "      <th>offer_rec_id</th>\n",
       "      <th>person</th>\n",
       "      <th>time_offer_start</th>\n",
       "      <th>offer id</th>\n",
       "      <th>reward</th>\n",
       "      <th>difficulty</th>\n",
       "      <th>duration</th>\n",
       "      <th>offer_type</th>\n",
       "      <th>email</th>\n",
       "      <th>mobile</th>\n",
       "      <th>social</th>\n",
       "      <th>web</th>\n",
       "      <th>time_offer_end</th>\n",
       "    </tr>\n",
       "  </thead>\n",
       "  <tbody>\n",
       "    <tr>\n",
       "      <th>0</th>\n",
       "      <td>0</td>\n",
       "      <td>78afa995795e4d85b5d9ceeca43f5fef</td>\n",
       "      <td>0</td>\n",
       "      <td>9b98b8c7a33c4b65b9aebfe6a799e6d9</td>\n",
       "      <td>5</td>\n",
       "      <td>5</td>\n",
       "      <td>7</td>\n",
       "      <td>bogo</td>\n",
       "      <td>1</td>\n",
       "      <td>1</td>\n",
       "      <td>0</td>\n",
       "      <td>1</td>\n",
       "      <td>168</td>\n",
       "    </tr>\n",
       "    <tr>\n",
       "      <th>1</th>\n",
       "      <td>1</td>\n",
       "      <td>ebe7ef46ea6f4963a7dd49f501b26779</td>\n",
       "      <td>0</td>\n",
       "      <td>9b98b8c7a33c4b65b9aebfe6a799e6d9</td>\n",
       "      <td>5</td>\n",
       "      <td>5</td>\n",
       "      <td>7</td>\n",
       "      <td>bogo</td>\n",
       "      <td>1</td>\n",
       "      <td>1</td>\n",
       "      <td>0</td>\n",
       "      <td>1</td>\n",
       "      <td>168</td>\n",
       "    </tr>\n",
       "    <tr>\n",
       "      <th>2</th>\n",
       "      <td>2</td>\n",
       "      <td>f082d80f0aac47a99173ba8ef8fc1909</td>\n",
       "      <td>0</td>\n",
       "      <td>9b98b8c7a33c4b65b9aebfe6a799e6d9</td>\n",
       "      <td>5</td>\n",
       "      <td>5</td>\n",
       "      <td>7</td>\n",
       "      <td>bogo</td>\n",
       "      <td>1</td>\n",
       "      <td>1</td>\n",
       "      <td>0</td>\n",
       "      <td>1</td>\n",
       "      <td>168</td>\n",
       "    </tr>\n",
       "    <tr>\n",
       "      <th>3</th>\n",
       "      <td>3</td>\n",
       "      <td>c0d210398dee4a0895b24444a5fcd1d2</td>\n",
       "      <td>0</td>\n",
       "      <td>9b98b8c7a33c4b65b9aebfe6a799e6d9</td>\n",
       "      <td>5</td>\n",
       "      <td>5</td>\n",
       "      <td>7</td>\n",
       "      <td>bogo</td>\n",
       "      <td>1</td>\n",
       "      <td>1</td>\n",
       "      <td>0</td>\n",
       "      <td>1</td>\n",
       "      <td>168</td>\n",
       "    </tr>\n",
       "    <tr>\n",
       "      <th>4</th>\n",
       "      <td>4</td>\n",
       "      <td>57dd18ec5ddc46828afb81ec5977bef2</td>\n",
       "      <td>0</td>\n",
       "      <td>9b98b8c7a33c4b65b9aebfe6a799e6d9</td>\n",
       "      <td>5</td>\n",
       "      <td>5</td>\n",
       "      <td>7</td>\n",
       "      <td>bogo</td>\n",
       "      <td>1</td>\n",
       "      <td>1</td>\n",
       "      <td>0</td>\n",
       "      <td>1</td>\n",
       "      <td>168</td>\n",
       "    </tr>\n",
       "  </tbody>\n",
       "</table>\n",
       "</div>"
      ],
      "text/plain": [
       "   offer_rec_id                            person  time_offer_start  \\\n",
       "0             0  78afa995795e4d85b5d9ceeca43f5fef                 0   \n",
       "1             1  ebe7ef46ea6f4963a7dd49f501b26779                 0   \n",
       "2             2  f082d80f0aac47a99173ba8ef8fc1909                 0   \n",
       "3             3  c0d210398dee4a0895b24444a5fcd1d2                 0   \n",
       "4             4  57dd18ec5ddc46828afb81ec5977bef2                 0   \n",
       "\n",
       "                           offer id  reward  difficulty  duration offer_type  \\\n",
       "0  9b98b8c7a33c4b65b9aebfe6a799e6d9       5           5         7       bogo   \n",
       "1  9b98b8c7a33c4b65b9aebfe6a799e6d9       5           5         7       bogo   \n",
       "2  9b98b8c7a33c4b65b9aebfe6a799e6d9       5           5         7       bogo   \n",
       "3  9b98b8c7a33c4b65b9aebfe6a799e6d9       5           5         7       bogo   \n",
       "4  9b98b8c7a33c4b65b9aebfe6a799e6d9       5           5         7       bogo   \n",
       "\n",
       "   email  mobile  social  web  time_offer_end  \n",
       "0      1       1       0    1             168  \n",
       "1      1       1       0    1             168  \n",
       "2      1       1       0    1             168  \n",
       "3      1       1       0    1             168  \n",
       "4      1       1       0    1             168  "
      ]
     },
     "execution_count": 12,
     "metadata": {},
     "output_type": "execute_result"
    }
   ],
   "source": [
    "offer_received_df.head()"
   ]
  },
  {
   "cell_type": "markdown",
   "metadata": {},
   "source": [
    "**Defination of good response**\n",
    "\n",
    "- The customer receives an offer and views and completes the offer within the expiry window.\n",
    "\n",
    "\n",
    "**Approach for identifying users that viewed and then completed an offer**\n",
    "\n",
    "- There is no unique id for the received offer. To tackle this issue the index of the offer received dataframe is converted to a column as unique offer id.\n",
    "\n",
    "- In the offers viewed and offers completed dataset the unique offer id column is not present, so time is used a parameter to identify if a user has viewed and completed an offer.\n",
    "\n",
    "- For offer viewed : time_viewed < time_offer_end and time_viewed >= time_offer_start.\n",
    "\n",
    "- For offer completed : time_completed < time_offer_end and time_completed >= time_viewed.\n"
   ]
  },
  {
   "cell_type": "code",
   "execution_count": 13,
   "metadata": {},
   "outputs": [],
   "source": [
    "# create a dataframe that contains the offers that were received and viewed within the expiry window\n",
    "\n",
    "offer_rec_view = pd.merge(offer_received_df[[\"offer_rec_id\", \"person\", \"offer id\", \"time_offer_start\", \"time_offer_end\"]],\n",
    "                          offer_viewed_df, how='inner',\n",
    "                          on=[\"person\", \"offer id\"])\n",
    "\n",
    "offer_rec_view = offer_rec_view.query(\"(time_viewed < time_offer_end) and (time_viewed >= time_offer_start)\")\n",
    "offer_rec_View = offer_rec_view.loc[offer_rec_view.groupby(by=[\"person\", \"offer id\", \"time_offer_start\"]).time_viewed.idxmin()]\n",
    "\n",
    "# create a dataframe that contains the offers that were viewed and completed within the expiry window\n",
    "offer_view_comp = pd.merge(offer_rec_view[[\"offer_rec_id\", \"person\", \"offer id\", \"time_viewed\", \"time_offer_end\"]],\n",
    "                          offer_completed_df, how='inner',\n",
    "                          on=[\"person\", \"offer id\"])\n",
    "\n",
    "offer_view_comp = offer_view_comp.query(\"(time_completed < time_offer_end) and (time_completed >= time_viewed)\")\n",
    "\n"
   ]
  },
  {
   "cell_type": "code",
   "execution_count": 14,
   "metadata": {},
   "outputs": [
    {
     "name": "stderr",
     "output_type": "stream",
     "text": [
      "<ipython-input-14-1cea0acbdd51>:4: SettingWithCopyWarning: \n",
      "A value is trying to be set on a copy of a slice from a DataFrame.\n",
      "Try using .loc[row_indexer,col_indexer] = value instead\n",
      "\n",
      "See the caveats in the documentation: https://pandas.pydata.org/pandas-docs/stable/user_guide/indexing.html#returning-a-view-versus-a-copy\n",
      "  offer_positive[\"offer_completed\"] = 1\n",
      "<ipython-input-14-1cea0acbdd51>:8: SettingWithCopyWarning: \n",
      "A value is trying to be set on a copy of a slice from a DataFrame.\n",
      "Try using .loc[row_indexer,col_indexer] = value instead\n",
      "\n",
      "See the caveats in the documentation: https://pandas.pydata.org/pandas-docs/stable/user_guide/indexing.html#returning-a-view-versus-a-copy\n",
      "  offer_negative[\"offer_completed\"] = 0\n"
     ]
    }
   ],
   "source": [
    "# create temporary dataframe that contains the positive responses from users (offer completed)\n",
    "\n",
    "offer_positive = offer_received_df[offer_received_df.offer_rec_id.isin(offer_view_comp.offer_rec_id.tolist())]\n",
    "offer_positive[\"offer_completed\"] = 1\n",
    "\n",
    "# create temporary dataframe that contains the negative responses from users (offer not completed)\n",
    "offer_negative = offer_received_df[~ offer_received_df.offer_rec_id.isin(offer_view_comp.offer_rec_id.tolist())]\n",
    "offer_negative[\"offer_completed\"] = 0\n",
    "\n",
    "# concatenate the two dataframes\n",
    "offer_final_df = pd.concat([offer_positive, offer_negative], ignore_index=True)\n",
    "\n",
    "# join the profile dataframe to the offer final dataframe\n",
    "offer_final_df = pd.merge(offer_final_df, profile,\n",
    "                         how='inner', on='person')\n",
    "\n",
    "# drop the person, offer id and offer_rec_id column\n",
    "offer_final_df.drop(columns=[\"person\", \"offer id\", \"offer_rec_id\"], inplace=True)"
   ]
  },
  {
   "cell_type": "markdown",
   "metadata": {},
   "source": [
    "## 4. Univariate and Multivariate analysis"
   ]
  },
  {
   "cell_type": "markdown",
   "metadata": {},
   "source": [
    "#### Profile"
   ]
  },
  {
   "cell_type": "code",
   "execution_count": 15,
   "metadata": {},
   "outputs": [
    {
     "data": {
      "image/png": "[encoded data removed]",
      "text/plain": [
       "<Figure size 1440x720 with 6 Axes>"
      ]
     },
     "metadata": {
      "needs_background": "light"
     },
     "output_type": "display_data"
    }
   ],
   "source": [
    "# Population characteristics\n",
    "\n",
    "\n",
    "fig, ax = plt.subplots(2,3, figsize=(20,10))\n",
    "\n",
    "profile.gender.value_counts().plot(kind='bar', ax=ax[0,0])\n",
    "ax[0,0].set_title(\"Gender distribution\")\n",
    "ax[0,0].set_xlabel(\"Gender\")\n",
    "\n",
    "profile.age.plot(kind='hist', ax=ax[0,1])\n",
    "ax[0,1].set_title(\"Age distribution\")\n",
    "ax[0,1].set_xlabel('Age')\n",
    "\n",
    "profile.income.plot(kind='hist', ax=ax[0,2])\n",
    "ax[0,2].set_title(\"Income distribution\")\n",
    "ax[0,2].set_xlabel('Income')\n",
    "\n",
    "profile.membership_period.plot(kind='hist', ax=ax[1,0])\n",
    "ax[1,0].set_title('Membership duartion distribution')\n",
    "ax[1,0].set_xlabel('membership duration')\n",
    "\n",
    "profile.boxplot(column='income', by='gender', ax=ax[1,1])\n",
    "ax[1,1].set_title(\"income by gender\")\n",
    "ax[1,1].set_ylabel(\"income\")\n",
    "\n",
    "profile.plot(x='age', y='income', kind='scatter', ax=ax[1,2])\n",
    "ax[1,2].set_title(\"income vs age\")\n",
    "\n",
    "plt.tight_layout()\n",
    "plt.show()"
   ]
  },
  {
   "cell_type": "markdown",
   "metadata": {},
   "source": [
    "**Observations of Profile dataframe**\n",
    "\n",
    "- In the total population the number of males are more than number of females with a very low number of other gender.\n",
    "\n",
    "- The age of users are normally distributed with a peak around 55-60 years of age.\n",
    "\n",
    "- The income of users are skewed to the left.\n",
    "\n",
    "- The income for females are higher compared to males and other gender.\n",
    "\n",
    "- The income for older population is higher compared to younger population"
   ]
  },
  {
   "cell_type": "markdown",
   "metadata": {},
   "source": [
    "#### Offer final dataset for analysis"
   ]
  },
  {
   "cell_type": "code",
   "execution_count": 16,
   "metadata": {},
   "outputs": [
    {
     "data": {
      "image/png": "[encoded data removed]",
      "text/plain": [
       "<Figure size 1440x2160 with 12 Axes>"
      ]
     },
     "metadata": {
      "needs_background": "light"
     },
     "output_type": "display_data"
    }
   ],
   "source": [
    "fig, ax = plt.subplots(4,3, figsize=(20,30))\n",
    "\n",
    "offer_final_df.offer_completed.value_counts().plot(kind='bar', ax=ax[0,0])\n",
    "ax[0,0].set_title(\"Distribution of offer completed and not completed\")\n",
    "ax[0,0].set_xlabel(\"Outcome of offer\")\n",
    "\n",
    "offer_final_df.time_offer_start.value_counts().sort_index().plot(kind='bar', ax=ax[0,1])\n",
    "ax[0,1].set_title(\"Distribution of time when the offer is sent\")\n",
    "ax[0,1].set_xlabel(\"time when offer is sent\")\n",
    "\n",
    "offer_final_df.offer_type.value_counts().plot(kind='bar', ax=ax[0,2])\n",
    "ax[0,2].set_title(\"Distribution of offer types of the recieved offers\")\n",
    "ax[0,2].set_xlabel(\"offer type\")\n",
    "\n",
    "offer_final_df.reward.value_counts().sort_index().plot(kind='bar', ax=ax[1,0])\n",
    "ax[1,0].set_title(\"Distribution of reward for received offers\")\n",
    "ax[1,0].set_xlabel(\"Reward\")\n",
    "\n",
    "offer_final_df.difficulty.value_counts().sort_index().plot(kind='bar', ax=ax[1,1])\n",
    "ax[1,1].set_title(\"Distribution of difficulty of offers received\")\n",
    "ax[1,1].set_xlabel(\"Difficulty\")\n",
    "\n",
    "offer_final_df.duration.value_counts().sort_index().plot(kind='bar', ax=ax[1,2])\n",
    "ax[1,2].set_title(\"Distribution of duration of the received offers\")\n",
    "ax[1,2].set_xlabel(\"Duration\")\n",
    "\n",
    "offer_final_df[[\"email\", \"mobile\", \"social\", \"web\"]].sum().plot(kind='bar', ax=ax[2,0])\n",
    "ax[2,0].set_title(\"Distribution of different medium of communication for offer received\")\n",
    "ax[2,0].set_xlabel(\"Medium of communication\")\n",
    "\n",
    "offer_final_df.groupby(by='gender')[\"offer_completed\"].mean().plot(kind='bar', ax=ax[2,1])\n",
    "ax[2,1].set_title(\"Fraction of offers completed by different genders\")\n",
    "ax[2,1].set_xlabel(\"Gender\")\n",
    "ax[2,1].set_ylabel(\"Fraction of offers completed\")\n",
    "\n",
    "offer_final_df.boxplot(column=\"age\", by=\"offer_completed\", ax=ax[2,2])\n",
    "ax[2,2].set_title(\"Age of users for offer completed and not completed\")\n",
    "ax[2,2].set_ylabel(\"Age\")\n",
    "\n",
    "offer_final_df.boxplot(column=\"income\", by=\"offer_completed\", ax=ax[3,0])\n",
    "ax[3,0].set_title(\"Income of users for offers completed and not completed\")\n",
    "ax[3,0].set_ylabel(\"Income\")\n",
    "\n",
    "offer_final_df.boxplot(column=\"membership_period\", by=\"offer_completed\", ax=ax[3,1])\n",
    "ax[3,1].set_title(\"Membership period of users for offers completed and not completed\")\n",
    "ax[3,1].set_ylabel(\"Membership period\")\n",
    "\n",
    "plt.tight_layout()\n",
    "plt.show()"
   ]
  },
  {
   "cell_type": "markdown",
   "metadata": {},
   "source": [
    "**Observations of offer final dataset**\n",
    "\n",
    "- The outcome(offer completed / not completed) is not imbalaced (40% - 60% split).\n",
    "\n",
    "- The median income of the users that completed offer vs not completed seems to have a significant difference.\n",
    "\n",
    "- The median membership_period seems to have a significant difference for the users that completed the offers vs not completed.\n"
   ]
  },
  {
   "cell_type": "markdown",
   "metadata": {},
   "source": [
    "## 5. Model building"
   ]
  },
  {
   "cell_type": "code",
   "execution_count": 17,
   "metadata": {},
   "outputs": [],
   "source": [
    "# one hot encode the categorical columns\n",
    "offer_final_df = offer_final_df.join(pd.get_dummies(offer_final_df[[\"offer_type\", \"gender\"]]))\n",
    "\n",
    "# remove the unwanted features\n",
    "offer_final_df.drop(columns=[\"time_offer_start\", \"time_offer_end\", \"gender\", \"offer_type\"], inplace=True)\n",
    "\n",
    "# split the data into train and test data\n",
    "X = offer_final_df.loc[:, offer_final_df.columns != \"offer_completed\"]\n",
    "y = offer_final_df.loc[:, \"offer_completed\"]\n",
    "X_train, X_test, y_train, y_test = train_test_split(X,y, test_size=0.2, random_state=10)"
   ]
  },
  {
   "cell_type": "markdown",
   "metadata": {},
   "source": [
    "Here we start with a simple Logistic Regression Model and then move on to ensemble methods like Random Forest and Gradient Boosting. Later, we compare the model performace and pick the best performing model."
   ]
  },
  {
   "cell_type": "markdown",
   "metadata": {},
   "source": [
    "### Logistic Regression"
   ]
  },
  {
   "cell_type": "code",
   "execution_count": 18,
   "metadata": {},
   "outputs": [],
   "source": [
    "def build_model_LogisticRegression():\n",
    "    '''\n",
    "    Instanciate the Logistic Regression model\n",
    "    \n",
    "    Output:\n",
    "        cv -> cross validation model\n",
    "    '''\n",
    "    pipeline = Pipeline([\n",
    "        ('scale', MinMaxScaler()),\n",
    "        ('clf', LogisticRegression())\n",
    "    ])\n",
    "    \n",
    "    # hyperparameters for the Logistic Regression Model\n",
    "    parameters = {\n",
    "        \"clf__penalty\": ['l2', 'l1', 'elasticnet'],\n",
    "        \"clf__max_iter\": [100, 500],\n",
    "        \"clf__C\": [0.1, 10, 100],\n",
    "        \"clf__solver\": ['saga'],\n",
    "        \"clf__l1_ratio\": [0.5]\n",
    "    }\n",
    "    \n",
    "    # run cross validation on the model\n",
    "    cv = GridSearchCV(pipeline, param_grid=parameters, cv=5, n_jobs= -1)\n",
    "    \n",
    "    return cv\n"
   ]
  },
  {
   "cell_type": "code",
   "execution_count": 19,
   "metadata": {},
   "outputs": [
    {
     "name": "stderr",
     "output_type": "stream",
     "text": [
      "/opt/anaconda3/lib/python3.8/site-packages/sklearn/linear_model/_logistic.py:1315: UserWarning: l1_ratio parameter is only used when penalty is 'elasticnet'. Got (penalty=l1)\n",
      "  warnings.warn(\"l1_ratio parameter is only used when penalty is \"\n"
     ]
    },
    {
     "data": {
      "text/plain": [
       "GridSearchCV(cv=5,\n",
       "             estimator=Pipeline(steps=[('scale', MinMaxScaler()),\n",
       "                                       ('clf', LogisticRegression())]),\n",
       "             n_jobs=-1,\n",
       "             param_grid={'clf__C': [0.1, 10, 100], 'clf__l1_ratio': [0.5],\n",
       "                         'clf__max_iter': [100, 500],\n",
       "                         'clf__penalty': ['l2', 'l1', 'elasticnet'],\n",
       "                         'clf__solver': ['saga']})"
      ]
     },
     "execution_count": 19,
     "metadata": {},
     "output_type": "execute_result"
    }
   ],
   "source": [
    "# build the cross validation Logistic Regression model\n",
    "\n",
    "model_LR = build_model_LogisticRegression()\n",
    "model_LR.fit(X_train, y_train)"
   ]
  },
  {
   "cell_type": "code",
   "execution_count": 20,
   "metadata": {},
   "outputs": [
    {
     "name": "stdout",
     "output_type": "stream",
     "text": [
      "For the Logistic Regression Model the accuracy score for training dataset is 0.67 and for test dataset is 0.67\n"
     ]
    }
   ],
   "source": [
    "# pick the best cross validation Logistic Regression model\n",
    "\n",
    "best_model_LR = model_LR.best_estimator_\n",
    "y_pred_LR = best_model_LR.predict(X_test)\n",
    "\n",
    "# calculate the model evaluation metrics\n",
    "clf_result_test_LR = classification_report(y_true = y_test, y_pred = y_pred_LR, output_dict=True)['accuracy']\n",
    "clf_result_train_LR = classification_report(y_true = y_train, y_pred = best_model_LR.predict(X_train), output_dict=True)['accuracy']\n",
    "\n",
    "# print the metrics\n",
    "\n",
    "print(f\"For the Logistic Regression Model the accuracy score for training dataset is {round(clf_result_train_LR,2)} and for test dataset is {round(clf_result_test_LR,2)}\")\n"
   ]
  },
  {
   "cell_type": "code",
   "execution_count": 21,
   "metadata": {},
   "outputs": [
    {
     "data": {
      "text/plain": [
       "{'clf__C': 0.1,\n",
       " 'clf__l1_ratio': 0.5,\n",
       " 'clf__max_iter': 500,\n",
       " 'clf__penalty': 'l1',\n",
       " 'clf__solver': 'saga'}"
      ]
     },
     "execution_count": 21,
     "metadata": {},
     "output_type": "execute_result"
    }
   ],
   "source": [
    "# Print the best hyperparameters for the Logistic Regression Model\n",
    "\n",
    "model_LR.best_params_"
   ]
  },
  {
   "cell_type": "code",
   "execution_count": 66,
   "metadata": {},
   "outputs": [
    {
     "data": {
      "image/png": "[encoded data removed]",
      "text/plain": [
       "<Figure size 432x288 with 2 Axes>"
      ]
     },
     "metadata": {
      "needs_background": "light"
     },
     "output_type": "display_data"
    }
   ],
   "source": [
    "# Display the confusion matrix\n",
    "\n",
    "ConfusionMatrixDisplay(confusion_matrix(y_test, y_pred_LR)).plot();"
   ]
  },
  {
   "cell_type": "markdown",
   "metadata": {},
   "source": [
    "### Random Forest Classifier"
   ]
  },
  {
   "cell_type": "code",
   "execution_count": 23,
   "metadata": {},
   "outputs": [],
   "source": [
    "def build_model_RandomForest():\n",
    "    '''\n",
    "    Instanciate the Random Forest Classifier model\n",
    "    \n",
    "    Output:\n",
    "        cv -> cross validation model\n",
    "    '''\n",
    "    pipeline = Pipeline([\n",
    "        ('scale', MinMaxScaler()),\n",
    "        ('clf', RandomForestClassifier())\n",
    "    ])\n",
    "    \n",
    "    # hyperparameters for the Random Forest Classifier Model\n",
    "    parameters = {\n",
    "        \"clf__n_estimators\": [100, 200, 500],\n",
    "        \"clf__max_depth\": [10, 20],\n",
    "        \"clf__min_samples_split\": [2, 10]\n",
    "    }\n",
    "    \n",
    "    # run cross validation on the model\n",
    "    cv = GridSearchCV(pipeline, param_grid=parameters, cv=5, n_jobs= -1)\n",
    "    \n",
    "    return cv"
   ]
  },
  {
   "cell_type": "code",
   "execution_count": 24,
   "metadata": {},
   "outputs": [
    {
     "data": {
      "text/plain": [
       "GridSearchCV(cv=5,\n",
       "             estimator=Pipeline(steps=[('scale', MinMaxScaler()),\n",
       "                                       ('clf', RandomForestClassifier())]),\n",
       "             n_jobs=-1,\n",
       "             param_grid={'clf__max_depth': [10, 20],\n",
       "                         'clf__min_samples_split': [2, 10],\n",
       "                         'clf__n_estimators': [100, 200, 500]})"
      ]
     },
     "execution_count": 24,
     "metadata": {},
     "output_type": "execute_result"
    }
   ],
   "source": [
    "# build the cross validation Random Forest Classifier model\n",
    "\n",
    "model_RF = build_model_RandomForest()\n",
    "model_RF.fit(X_train, y_train)"
   ]
  },
  {
   "cell_type": "code",
   "execution_count": 30,
   "metadata": {},
   "outputs": [
    {
     "name": "stdout",
     "output_type": "stream",
     "text": [
      "For the Random Forest Model the accuracy score for training dataset is 0.73 and for test dataset is 0.71\n"
     ]
    }
   ],
   "source": [
    "# pick the best cross validation Random Forest Classifier model\n",
    "\n",
    "best_model_RF = model_RF.best_estimator_\n",
    "y_pred_RF = best_model_RF.predict(X_test)\n",
    "\n",
    "# calculate the model evaluation metrics\n",
    "clf_result_test_RF = classification_report(y_true = y_test, y_pred = y_pred_RF, output_dict=True)['accuracy']\n",
    "clf_result_train_RF = classification_report(y_true = y_train, y_pred = best_model_RF.predict(X_train), output_dict=True)['accuracy']\n",
    "\n",
    "# print the metrics\n",
    "\n",
    "print(f\"For the Random Forest Model the accuracy score for training dataset is {round(clf_result_train_RF,2)} and for test dataset is {round(clf_result_test_RF,2)}\")\n"
   ]
  },
  {
   "cell_type": "code",
   "execution_count": 26,
   "metadata": {},
   "outputs": [
    {
     "data": {
      "text/plain": [
       "{'clf__max_depth': 10, 'clf__min_samples_split': 10, 'clf__n_estimators': 500}"
      ]
     },
     "execution_count": 26,
     "metadata": {},
     "output_type": "execute_result"
    }
   ],
   "source": [
    "# print the best hyperparameters for the random forest model\n",
    "\n",
    "model_RF.best_params_"
   ]
  },
  {
   "cell_type": "code",
   "execution_count": 65,
   "metadata": {},
   "outputs": [
    {
     "data": {
      "image/png": "[encoded data removed]",
      "text/plain": [
       "<Figure size 432x288 with 2 Axes>"
      ]
     },
     "metadata": {
      "needs_background": "light"
     },
     "output_type": "display_data"
    }
   ],
   "source": [
    "# Display the confusion matrix\n",
    "\n",
    "ConfusionMatrixDisplay(confusion_matrix(y_test, y_pred_RF)).plot();"
   ]
  },
  {
   "cell_type": "markdown",
   "metadata": {},
   "source": [
    "### Gradient Boosting Classifier"
   ]
  },
  {
   "cell_type": "code",
   "execution_count": 28,
   "metadata": {},
   "outputs": [],
   "source": [
    "def build_model_GradientBoosting():\n",
    "    '''\n",
    "    Instanciate the Gradient Boosting Classifier model\n",
    "    \n",
    "    Output:\n",
    "        cv -> cross validation model\n",
    "    '''\n",
    "    pipeline = Pipeline([\n",
    "        ('scale', MinMaxScaler()),\n",
    "        ('clf', GradientBoostingClassifier())\n",
    "    ])\n",
    "    \n",
    "    # hyperparameters for the Gradinet Boosting Classifier Model\n",
    "    parameters = {\n",
    "        \"clf__n_estimators\": [100, 500, 1000],\n",
    "        \"clf__learning_rate\": [0.01, 0.1],\n",
    "        \"clf__max_depth\": [5, 10],\n",
    "        \"clf__min_samples_leaf\": [2, 10, 20]\n",
    "    }\n",
    "    \n",
    "    # run cross validation on the model\n",
    "    cv = GridSearchCV(pipeline, param_grid=parameters, cv=5, n_jobs= -1)\n",
    "    \n",
    "    return cv\n",
    "\n"
   ]
  },
  {
   "cell_type": "code",
   "execution_count": 29,
   "metadata": {},
   "outputs": [
    {
     "data": {
      "text/plain": [
       "GridSearchCV(cv=5,\n",
       "             estimator=Pipeline(steps=[('scale', MinMaxScaler()),\n",
       "                                       ('clf', GradientBoostingClassifier())]),\n",
       "             n_jobs=-1,\n",
       "             param_grid={'clf__learning_rate': [0.01, 0.1],\n",
       "                         'clf__max_depth': [5, 10],\n",
       "                         'clf__min_samples_leaf': [2, 10, 20],\n",
       "                         'clf__n_estimators': [100, 500, 1000]})"
      ]
     },
     "execution_count": 29,
     "metadata": {},
     "output_type": "execute_result"
    }
   ],
   "source": [
    "# build the cross validation Gradient Boosting model\n",
    "\n",
    "model_GB = build_model_GradientBoosting()\n",
    "model_GB.fit(X_train, y_train)"
   ]
  },
  {
   "cell_type": "code",
   "execution_count": 31,
   "metadata": {},
   "outputs": [
    {
     "name": "stdout",
     "output_type": "stream",
     "text": [
      "For the Gradient Boosting Model the accuracy score for training dataset is 0.76 and for test dataset is 0.71\n"
     ]
    }
   ],
   "source": [
    "# pick the best cross validation Gradient Boosting model\n",
    "\n",
    "best_model_GB = model_GB.best_estimator_\n",
    "y_pred_GB = best_model_GB.predict(X_test)\n",
    "\n",
    "# calculate the model evaluation metrics\n",
    "clf_result_test_GB = classification_report(y_true = y_test, y_pred = y_pred_GB, output_dict=True)['accuracy']\n",
    "clf_result_train_GB = classification_report(y_true = y_train, y_pred = best_model_GB.predict(X_train), output_dict=True)['accuracy']\n",
    "\n",
    "# print the metrics\n",
    "\n",
    "print(f\"For the Gradient Boosting Model the accuracy score for training dataset is {round(clf_result_train_GB,2)} and for test dataset is {round(clf_result_test_GB,2)}\")\n"
   ]
  },
  {
   "cell_type": "code",
   "execution_count": 32,
   "metadata": {},
   "outputs": [
    {
     "data": {
      "text/plain": [
       "{'clf__learning_rate': 0.1,\n",
       " 'clf__max_depth': 5,\n",
       " 'clf__min_samples_leaf': 10,\n",
       " 'clf__n_estimators': 500}"
      ]
     },
     "execution_count": 32,
     "metadata": {},
     "output_type": "execute_result"
    }
   ],
   "source": [
    "# Display the parameters of the best model\n",
    "\n",
    "model_GB.best_params_"
   ]
  },
  {
   "cell_type": "code",
   "execution_count": 64,
   "metadata": {},
   "outputs": [
    {
     "data": {
      "image/png": "[encoded data removed]",
      "text/plain": [
       "<Figure size 432x288 with 2 Axes>"
      ]
     },
     "metadata": {
      "needs_background": "light"
     },
     "output_type": "display_data"
    }
   ],
   "source": [
    "# Display the confusion matrix\n",
    "\n",
    "ConfusionMatrixDisplay(confusion_matrix(y_test, y_pred_GB)).plot();"
   ]
  },
  {
   "cell_type": "code",
   "execution_count": 35,
   "metadata": {},
   "outputs": [
    {
     "data": {
      "image/png": "[encoded data removed]",
      "text/plain": [
       "<Figure size 432x288 with 1 Axes>"
      ]
     },
     "metadata": {
      "needs_background": "light"
     },
     "output_type": "display_data"
    }
   ],
   "source": [
    "# plot the feature importances\n",
    "\n",
    "feature_imp_df = pd.DataFrame({\"features\": X_train.columns,\n",
    "                               \"importances\": best_model_GB.named_steps[\"clf\"].feature_importances_})\n",
    "\n",
    "feature_imp_df.sort_values(by=\"importances\", ascending=False).\\\n",
    "                plot(x=\"features\", y=\"importances\" ,kind='bar')\n",
    "plt.title(\"Feature importances of the Gradient Boosting Model\");"
   ]
  },
  {
   "cell_type": "markdown",
   "metadata": {},
   "source": [
    "### Comparision "
   ]
  },
  {
   "cell_type": "code",
   "execution_count": 42,
   "metadata": {},
   "outputs": [
    {
     "data": {
      "text/html": [
       "<div>\n",
       "<style scoped>\n",
       "    .dataframe tbody tr th:only-of-type {\n",
       "        vertical-align: middle;\n",
       "    }\n",
       "\n",
       "    .dataframe tbody tr th {\n",
       "        vertical-align: top;\n",
       "    }\n",
       "\n",
       "    .dataframe thead th {\n",
       "        text-align: right;\n",
       "    }\n",
       "</style>\n",
       "<table border=\"1\" class=\"dataframe\">\n",
       "  <thead>\n",
       "    <tr style=\"text-align: right;\">\n",
       "      <th></th>\n",
       "      <th>Model</th>\n",
       "      <th>BestModel</th>\n",
       "      <th>ModelAccuracy</th>\n",
       "    </tr>\n",
       "  </thead>\n",
       "  <tbody>\n",
       "    <tr>\n",
       "      <th>0</th>\n",
       "      <td>LogisticRegression</td>\n",
       "      <td>{'clf__C': 0.1, 'clf__l1_ratio': 0.5, 'clf__max_iter': 500, 'clf__penalty': 'l1', 'clf__solver': 'saga'}</td>\n",
       "      <td>0.67</td>\n",
       "    </tr>\n",
       "    <tr>\n",
       "      <th>1</th>\n",
       "      <td>RandomForest</td>\n",
       "      <td>{'clf__max_depth': 10, 'clf__min_samples_split': 10, 'clf__n_estimators': 500}</td>\n",
       "      <td>0.71</td>\n",
       "    </tr>\n",
       "    <tr>\n",
       "      <th>2</th>\n",
       "      <td>GradientBoosting</td>\n",
       "      <td>{'clf__learning_rate': 0.1, 'clf__max_depth': 5, 'clf__min_samples_leaf': 10, 'clf__n_estimators': 500}</td>\n",
       "      <td>0.71</td>\n",
       "    </tr>\n",
       "  </tbody>\n",
       "</table>\n",
       "</div>"
      ],
      "text/plain": [
       "                Model  \\\n",
       "0  LogisticRegression   \n",
       "1        RandomForest   \n",
       "2    GradientBoosting   \n",
       "\n",
       "                                                                                                  BestModel  \\\n",
       "0  {'clf__C': 0.1, 'clf__l1_ratio': 0.5, 'clf__max_iter': 500, 'clf__penalty': 'l1', 'clf__solver': 'saga'}   \n",
       "1                            {'clf__max_depth': 10, 'clf__min_samples_split': 10, 'clf__n_estimators': 500}   \n",
       "2   {'clf__learning_rate': 0.1, 'clf__max_depth': 5, 'clf__min_samples_leaf': 10, 'clf__n_estimators': 500}   \n",
       "\n",
       "   ModelAccuracy  \n",
       "0           0.67  \n",
       "1           0.71  \n",
       "2           0.71  "
      ]
     },
     "execution_count": 42,
     "metadata": {},
     "output_type": "execute_result"
    }
   ],
   "source": [
    "model_comp_df = pd.DataFrame({\"Model\": [\"LogisticRegression\", \"RandomForest\", \"GradientBoosting\"], \n",
    "                             \"BestModel\": [model_LR.best_params_, model_RF.best_params_, model_GB.best_params_],\n",
    "                             \"ModelAccuracy\": [round(clf_result_test_LR,2), round(clf_result_test_RF,2), round(clf_result_test_GB,2)]})\n",
    "model_comp_df.head()"
   ]
  },
  {
   "cell_type": "code",
   "execution_count": 46,
   "metadata": {},
   "outputs": [
    {
     "data": {
      "image/png": "[encoded data removed]",
      "text/plain": [
       "<Figure size 432x288 with 1 Axes>"
      ]
     },
     "metadata": {
      "needs_background": "light"
     },
     "output_type": "display_data"
    }
   ],
   "source": [
    "# Bar plot for model accuracy comparision\n",
    "\n",
    "sns.barplot(x=\"Model\", y=\"ModelAccuracy\", data=model_comp_df)\n",
    "plt.title(\"Model performance comparision\");"
   ]
  },
  {
   "cell_type": "code",
   "execution_count": 63,
   "metadata": {},
   "outputs": [
    {
     "data": {
      "image/png": "[encoded data removed]",
      "text/plain": [
       "<Figure size 1080x288 with 6 Axes>"
      ]
     },
     "metadata": {
      "needs_background": "light"
     },
     "output_type": "display_data"
    }
   ],
   "source": [
    "fig1, ax1 = plt.subplots(1,3, figsize=(15,4))\n",
    "\n",
    "ConfusionMatrixDisplay(confusion_matrix(y_test, y_pred_LR)).plot(ax=ax1[0])\n",
    "ax1[0].set_title('Confusion Matrix for Logistic Regression Model')\n",
    "\n",
    "ConfusionMatrixDisplay(confusion_matrix(y_test, y_pred_RF)).plot(ax=ax1[1])\n",
    "ax1[1].set_title('Confusion Matrix for Random Forest Classifier')\n",
    "\n",
    "ConfusionMatrixDisplay(confusion_matrix(y_test, y_pred_GB)).plot(ax=ax1[2])\n",
    "ax1[2].set_title('Confusion Matrix for Gradient Boosting Classifier')\n",
    "\n",
    "plt.show()"
   ]
  },
  {
   "cell_type": "markdown",
   "metadata": {},
   "source": [
    "**Discussions**\n",
    "\n",
    "- Logistic regression, Random Forest Classifier and Gradient Boosting Classifier are used as models and accuracy is used the metric of evaluation.\n",
    "\n",
    "- The best model turned out to be the Gradient Boosting Classifier. Even though the test accuracy was almost same in case of Random Forest and Gradient Boosting Classifier, the precision of Gradient Boosting was better than Random Forest Classifier.\n"
   ]
  },
  {
   "cell_type": "markdown",
   "metadata": {},
   "source": [
    "## 6. Conclusion"
   ]
  },
  {
   "cell_type": "markdown",
   "metadata": {},
   "source": [
    "- The project had the objective of building a model to be able to identify if an offer sent to a particular customer will be completed or not. The model built in this case was a gradient boosting classifier.\n",
    "\n",
    "- This problem had a big challenge of figuring out offers that were viewed and completed as there was no unique id of the offers. To tackle this issue, offer date was used to make a relationship. It worked fairly well but there are other approaches as well.\n",
    "\n",
    "- The model can be improved by introducing new features like number of unsuccessful offers before conversion, making the income and age as groups rather than individual values, etc. Also there can other approaches like consider one entry for each conversion (one entry per customer and offer pair).\n",
    "\n",
    "- Other ML classification models like XGBoost can also be used for better accuracy."
   ]
  },
  {
   "cell_type": "code",
   "execution_count": null,
   "metadata": {},
   "outputs": [],
   "source": []
  }
 ],
 "metadata": {
  "kernelspec": {
   "display_name": "Python 3",
   "language": "python",
   "name": "python3"
  },
  "language_info": {
   "codemirror_mode": {
    "name": "ipython",
    "version": 3
   },
   "file_extension": ".py",
   "mimetype": "text/x-python",
   "name": "python",
   "nbconvert_exporter": "python",
   "pygments_lexer": "ipython3",
   "version": "3.8.5"
  }
 },
 "nbformat": 4,
 "nbformat_minor": 4
}
